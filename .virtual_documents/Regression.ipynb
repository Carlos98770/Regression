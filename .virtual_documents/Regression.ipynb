!pip install statsmodels



import pandas as pd
import numpy as np
import matplotlib.pyplot as plt 
%matplotlib inline
from sklearn.model_selection import train_test_split
from sklearn.impute import SimpleImputer
from sklearn import linear_model
import statsmodels.api as sm


def loadDataSet(filename):
    df = pd.read_csv(filename)
    return df



filename = './dataSets/housing.csv'
df = loadDataSet(filename)
print(df.columns)
df.info()


df.head()


df.hist(bins=50,figsize=(20,15))
plt.show()


#Completando valores ausentes
imputer = SimpleImputer(strategy='median')
X_num = df.drop(columns ='ocean_proximity',axis=1)
imputer.fit(X_num)
X = pd.DataFrame(imputer.transform(X_num),columns=X_num.columns)
X.info()


#Separando os preditores para os conjuntos de teste e treinamento
y = df['median_house_value']
X = X.drop(columns= ['median_house_value'],axis=1)
X.info()

X_train , X_teste ,y_train, y_teste = train_test_split(X,y,test_size=0.20,random_state=42)



df.plot(kind='scatter', x = 'longitude', y = 'latitude',alpha=0.2,
       s = df['population']/100,label="population",figsize = (10,7),
       c = 'median_house_value', cmap=plt.get_cmap('jet'), colorbar=True 
       
       )
plt.xlabel("longitude")
plt.ylabel("latitude")

plt.title("Mapa da dispersão longitude X latitude")
plt.show()



#Correlação de pearson, mostra a relação entre os preditores e os seus resultados
df.iloc[:,0:9].corr(method='pearson')


df.plot(kind='scatter', x = 'median_income' , y = 'median_house_value', alpha=0.1,color='g')
plt.show()


def results(reg,X_train , X_teste ,y_train, y_teste):


  reg.fit(X_train,y_train)

  pred_train = reg.predict(X_train)

  print(f'Intercepto: {reg.intercept_}, coeficientes da regressão: {reg.coef_}')
 



  plt.plot(X_train,y_train, 'b.')
  plt.plot(X_train,pred_train,'g.')
  plt.title("Conjunto de treino")
  plt.show()

  reg.fit(X_teste,y_teste)

  pred_teste = reg.predict(X_teste)

  print(f'Intercepto: {reg.intercept_}, coeficientes da regressão: {reg.coef_}')
  

  plt.plot(X_teste,y_teste, 'b.')
  plt.plot(X_teste,pred_teste,'g.')
  plt.title("Conjunto de teste")
  plt.show()


results = sm.OLS(y,sm.add_constant(X)).fit()
print(results.params)
print(results.summary())


X = X.drop(columns=['households','total_rooms','total_bedrooms'])

results = sm.OLS(y,sm.add_constant(X)).fit()
print(results.params)
print(results.summary())


X = X.drop(columns=['population','housing_median_age'])

results = sm.OLS(y,sm.add_constant(X)).fit()
print(results.params)
print(results.summary())
