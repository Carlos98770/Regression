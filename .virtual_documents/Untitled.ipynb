import pandas as pd
import numpy as np
import matplotlib.pyplot as plt 
%matplotlib inline
from sklearn.model_selection import train_test_split


def loadDataSet(filename):
    df = pd.read_csv(filename)
    return df



filename = './dataSets/housing.csv'
df = loadDataSet(filename)
print(df.columns)
df.info()


df.head()


df.hist(bins=50,figsize=(20,15))
plt.show()


#Separando os preditores para os conjuntos de teste e treinamento
y = df['median_house_value']
X = df.drop(columns= 'median_house_value',axis=1)


X_train , X_teste ,y_train, y_teste = train_test_split(X,y,test_size=0.20,random_state=42)



df.plot(kind='scatter', x = 'longitude', y = 'latitude',alpha=0.2,
       s = df['population']/100,label="population",figsize = (10,7),
       c = 'median_house_value', cmap=plt.get_cmap('jet'), colorbar=True 
       
       )
plt.xlabel("longitude")
plt.ylabel("latitude")
plt.title("Mapa da dispersão longitude X latitude")
plt.show()



#Correlação de pearson, mostra a relação entre os preditores e os seus resultados
df.iloc[:,0:9].corr(method='pearson')


df.plot(kind='scatter', x = 'median_income' , y = 'median_house_value', alpha=0.1,color='g')
plt.show()


df['total_bedrooms'].value_counts()

